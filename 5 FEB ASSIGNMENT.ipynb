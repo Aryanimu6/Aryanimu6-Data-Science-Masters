{
 "cells": [
  {
   "cell_type": "markdown",
   "id": "fc9c7b8a-db5a-4276-881d-4b873fd20aba",
   "metadata": {},
   "source": [
    "Object-Oriented Programming (OOP) is a programming paradigm that is based on the concept of objects. An object is an instance of a class, which is a blueprint or template that describes the properties and behaviors of a set of similar objects.\n",
    "\n",
    "A class is a user-defined data type that contains data members (attributes) and member functions (methods). The attributes define the properties of the object, while the methods define the behaviors or actions that the object can perform.\n",
    "\n",
    "An object is an instance of a class. It is created from the class definition, and it contains the values of the class attributes. Objects can interact with each other by invoking methods on each other, and they can be passed as parameters to functions.\n",
    "\n",
    "For example, let's say we have a class called \"Car\" that describes the properties and behaviors of a car. The class might have attributes such as \"make\", \"model\", \"year\", and \"color\", and methods such as \"start_engine\", \"accelerate\", and \"brake\".\n",
    "\n",
    "To create an object of the Car class, we would first define the class and then create an instance of the class using the constructor method. The constructor initializes the object with default values for its attributes, or with values provided by the caller.\n",
    "\n",
    "Here's an example code snippet in Python:"
   ]
  },
  {
   "cell_type": "code",
   "execution_count": 1,
   "id": "9425edc0-1914-4e38-ba10-7a8ece7fd7ac",
   "metadata": {},
   "outputs": [],
   "source": [
    "class Car:\n",
    "    def __init__(self, make, model, year, color):\n",
    "        self.make = make\n",
    "        self.model = model\n",
    "        self.year = year\n",
    "        self.color = color\n",
    "        \n",
    "    def start_engine(self):\n",
    "        print(\"Starting the engine...\")\n",
    "        \n",
    "    def accelerate(self):\n",
    "        print(\"Accelerating...\")\n",
    "        \n",
    "    def brake(self):\n",
    "        print(\"Braking...\")\n"
   ]
  },
  {
   "cell_type": "markdown",
   "id": "794ab7e9-4e05-4551-9edf-564c76d11045",
   "metadata": {},
   "source": [
    "The four pillars of Object-Oriented Programming (OOPs) are:\n",
    "\n",
    "1. Encapsulation: This is the technique of hiding the complexity of the data and operations by combining them together into a single entity called a class. It allows the object to control its own state and behavior, and restricts access to its internal data and methods from outside the object.\n",
    "\n",
    "2. Abstraction: This is the process of defining a simplified representation of a complex system, by selecting only the relevant characteristics of the system and ignoring the rest. Abstraction helps to reduce complexity and manageability by separating the high-level concepts from the low-level details.\n",
    "\n",
    "3. Inheritance: This is the mechanism by which a new class can be derived from an existing class, inheriting its attributes and methods. Inheritance allows for code reuse and enables the creation of hierarchical class structures.\n",
    "\n",
    "4. Polymorphism: This is the ability of an object to take on many forms, or to have multiple behaviors depending on the context in which it is used. Polymorphism allows different objects to respond to the same message in different ways, and it is achieved through method overloading and method overriding."
   ]
  },
  {
   "cell_type": "markdown",
   "id": "56ff21d6-f268-432d-9626-69656ce1fbe4",
   "metadata": {},
   "source": [
    "The __init__() function is a special method in Python that is used to initialize the attributes of an object when it is created. It is called automatically when an object of a class is instantiated, and it is used to set the initial values of the object's attributes.\n",
    "\n",
    "The __init__() method takes the self parameter, which refers to the object being created, as well as any other parameters that are required to initialize the attributes of the object. Inside the __init__() method, the attributes of the object are set using the self keyword, which refers to the object being created.\n",
    "\n",
    "Here's an example of a class in Python that uses the __init__() method to initialize its attributes:\n",
    "\n",
    "ruby\n"
   ]
  },
  {
   "cell_type": "code",
   "execution_count": 2,
   "id": "cbc42775-db69-455c-88b2-29be3814b626",
   "metadata": {},
   "outputs": [
    {
     "name": "stdout",
     "output_type": "stream",
     "text": [
      "50\n"
     ]
    }
   ],
   "source": [
    "class Rectangle:\n",
    "    def __init__(self, width, height):\n",
    "        self.width = width\n",
    "        self.height = height\n",
    "    \n",
    "    def area(self):\n",
    "        return self.width * self.height\n",
    "\n",
    "rect = Rectangle(5, 10)\n",
    "print(rect.area())   # Output: 50\n"
   ]
  },
  {
   "cell_type": "markdown",
   "id": "515b7024-f4ab-428d-b30a-532abbdef137",
   "metadata": {},
   "source": [
    "In Object-Oriented Programming (OOP), the self keyword is used to refer to the object that is currently being worked on, or in other words, the instance of the class. It is a reference to the object itself, which allows us to access and modify its attributes and methods.\n",
    "\n",
    "In Python, the self parameter is used in class methods to refer to the instance of the class that the method is being called on. When a method is called on an object, the self parameter is automatically passed to the method, and it refers to the object that the method is being called on.\n",
    "\n",
    "Here's an example to illustrate how self is used in Python:"
   ]
  },
  {
   "cell_type": "code",
   "execution_count": 3,
   "id": "b88b55da-79c3-4117-b8ae-ff8188be9963",
   "metadata": {},
   "outputs": [],
   "source": [
    "class Person:\n",
    "    def __init__(self, name, age):\n",
    "        self.name = name\n",
    "        self.age = age\n",
    "    \n",
    "    def greet(self):\n",
    "        print(f\"Hello, my name is {self.name} and I'm {self.age} years old.\")\n",
    "\n",
    "        "
   ]
  },
  {
   "cell_type": "code",
   "execution_count": 6,
   "id": "90ac427f-a7b7-43b9-96a6-4b2dee6c5283",
   "metadata": {},
   "outputs": [],
   "source": [
    "person = Person (\"aryan\", 19)"
   ]
  },
  {
   "cell_type": "code",
   "execution_count": 8,
   "id": "3fa2c9fa-2249-4aff-b6c4-072e9f2142c8",
   "metadata": {},
   "outputs": [
    {
     "name": "stdout",
     "output_type": "stream",
     "text": [
      "Hello, my name is aryan and I'm 19 years old.\n"
     ]
    }
   ],
   "source": [
    "person.greet()"
   ]
  },
  {
   "cell_type": "code",
   "execution_count": null,
   "id": "b1c2ce48-f8d9-4995-ae6b-14389eb92c41",
   "metadata": {},
   "outputs": [],
   "source": []
  }
 ],
 "metadata": {
  "kernelspec": {
   "display_name": "Python 3 (ipykernel)",
   "language": "python",
   "name": "python3"
  },
  "language_info": {
   "codemirror_mode": {
    "name": "ipython",
    "version": 3
   },
   "file_extension": ".py",
   "mimetype": "text/x-python",
   "name": "python",
   "nbconvert_exporter": "python",
   "pygments_lexer": "ipython3",
   "version": "3.10.8"
  }
 },
 "nbformat": 4,
 "nbformat_minor": 5
}
