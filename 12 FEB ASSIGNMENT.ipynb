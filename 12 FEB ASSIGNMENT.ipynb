{
 "cells": [
  {
   "cell_type": "code",
   "execution_count": 1,
   "id": "611c658e-c754-4f12-9e47-bc3e1dada2da",
   "metadata": {},
   "outputs": [],
   "source": [
    "#ANSWER 1"
   ]
  },
  {
   "cell_type": "markdown",
   "id": "ff87eda8-90d1-4beb-9cd5-0ccf96d5084f",
   "metadata": {},
   "source": [
    "In Python, an exception is an error that occurs during the execution of a program. When an exception is raised, it interrupts the normal flow of the program and Python will try to find an exception handler that can handle the error.\n",
    "\n",
    "Exceptions can occur for a variety of reasons, such as:\n",
    "\n",
    "Attempting to access a file that doesn't exist\n",
    "Trying to divide a number by zero\n",
    "Calling a function that doesn't exist\n",
    "Trying to access a variable that hasn't been defined\n",
    "Syntax errors, on the other hand, occur when there is a problem with the syntax of the Python code. These errors occur when Python is unable to interpret the code because of a mistake in the code's syntax. Examples of syntax errors include:\n",
    "\n",
    "Forgetting to close a parenthesis or quote\n",
    "Using an invalid variable name\n",
    "Not using the correct indentation\n",
    "The main difference between exceptions and syntax errors is that exceptions occur during the execution of the program, while syntax errors occur before the program is executed. Syntax errors prevent the program from being executed at all, while exceptions occur during the program's execution and can be handled by exception handling code.\n",
    "\n",
    "Here's an example of a program that raises an exception:"
   ]
  },
  {
   "cell_type": "code",
   "execution_count": null,
   "id": "a87f88aa-6b69-411d-8b37-25b524d13116",
   "metadata": {},
   "outputs": [],
   "source": [
    "# Attempt to open a file that doesn't exist\n",
    "try:\n",
    "    file = open(\"nonexistent_file.txt\", \"r\")\n",
    "except FileNotFoundError:\n",
    "    print(\"File not found!\")\n"
   ]
  },
  {
   "cell_type": "markdown",
   "id": "a873427f-6ee1-450a-a51f-2c493dc742f5",
   "metadata": {},
   "source": [
    "In this example, we attempt to open a file that doesn't exist using the open() function. This will raise a FileNotFoundError exception, which we catch using a try-except block. The exception handler will print the message \"File not found!\" to the console.\n",
    "\n",
    "Here's an example of a program with a syntax error:"
   ]
  },
  {
   "cell_type": "code",
   "execution_count": null,
   "id": "d040acef-b580-4bfd-bfa1-4e60bc25b610",
   "metadata": {},
   "outputs": [],
   "source": [
    "# Print a message to the console\n",
    "print(\"Hello, world!\"\n"
   ]
  },
  {
   "cell_type": "markdown",
   "id": "a3e0c8df-159b-4094-b63f-c77313c83f67",
   "metadata": {},
   "source": [
    "In this example, we have forgotten to close the parentheses in the print() function call, which will result in a syntax error. When we try to run this program, Python will raise a SyntaxError and the program will not be executed. We need to fix the syntax error before we can run the program."
   ]
  },
  {
   "cell_type": "code",
   "execution_count": 2,
   "id": "f2d1d340-410c-4258-b393-52325fc0b373",
   "metadata": {},
   "outputs": [],
   "source": [
    "#ANSWER 2"
   ]
  },
  {
   "cell_type": "markdown",
   "id": "f5a29be7-2f10-4d25-baaf-a7d23be9c944",
   "metadata": {},
   "source": [
    "When an exception is not handled by the program, it will cause the program to terminate abruptly with an error message indicating the type of exception that was raised. This can be problematic if the program was performing critical tasks, such as data processing or system maintenance, as it could result in data loss or other unintended consequences.\n",
    "\n",
    "Here's an example of a program that does not handle an exception:\n"
   ]
  },
  {
   "cell_type": "code",
   "execution_count": null,
   "id": "b7584ce8-36d4-4501-815c-e609ff020600",
   "metadata": {},
   "outputs": [],
   "source": [
    "# Attempt to divide a number by zero\n",
    "result = 10 / 0\n",
    "print(result)\n"
   ]
  },
  {
   "cell_type": "markdown",
   "id": "8dfeac0d-507a-4d62-b80a-baa0a4c4736b",
   "metadata": {},
   "source": [
    "In this example, we attempt to divide the number 10 by zero, which will raise a ZeroDivisionError exception. Since we do not have any exception handling code in the program, the exception is not handled and the program will terminate abruptly with an error message:"
   ]
  },
  {
   "cell_type": "code",
   "execution_count": null,
   "id": "624399b5-82ae-4b4d-af6b-ba47086b8682",
   "metadata": {},
   "outputs": [],
   "source": [
    "Traceback (most recent call last):\n",
    "    File \"example.py\", line 2, in <module>\n",
    "    result = 10 / 0\n",
    "ZeroDivisionError: division by zero\n"
   ]
  },
  {
   "cell_type": "markdown",
   "id": "e988663e-3a29-4d7f-9a44-37b010698053",
   "metadata": {},
   "source": [
    "As we can see from the error message, the program has terminated abruptly with a ZeroDivisionError exception indicating that we tried to divide a number by zero. If this program was performing critical tasks, such as manipulating sensitive data or maintaining a critical system, the abrupt termination could have serious consequences.\n",
    "\n",
    "Therefore, it is important to always handle exceptions in our programs to ensure that they can continue to run smoothly even when errors occur.\n",
    "\n",
    "\n",
    "\n",
    "\n",
    "Regenerate response"
   ]
  },
  {
   "cell_type": "code",
   "execution_count": 3,
   "id": "a5634746-a7a9-4ac4-a0f8-5613a93f7e99",
   "metadata": {},
   "outputs": [],
   "source": [
    "#ANSWER 3"
   ]
  },
  {
   "cell_type": "markdown",
   "id": "8e57262c-b9c4-4d37-979e-ecaa9277c0fc",
   "metadata": {},
   "source": [
    "Python has several statements that can be used to handle exceptions:\n",
    "\n",
    "1. try-except: This statement is used to catch and handle exceptions in Python. The code that is expected to raise an exception is placed inside the try block, and the code that should be executed if an exception occurs is placed inside the corresponding except block."
   ]
  },
  {
   "cell_type": "code",
   "execution_count": null,
   "id": "33100f75-6a88-48c8-9a91-85ebb8ae8eb0",
   "metadata": {},
   "outputs": [],
   "source": [
    "try:\n",
    "    # code that could raise an exception\n",
    "    result = 10 / 0\n",
    "except ZeroDivisionError:\n",
    "    # code that should be executed if a ZeroDivisionError occurs\n",
    "    print(\"Cannot divide by zero\")\n"
   ]
  },
  {
   "cell_type": "markdown",
   "id": "a3b5f7ff-3a93-43ad-9945-b1c3d7b69a1b",
   "metadata": {},
   "source": [
    "In this example, we use a try-except block to catch a ZeroDivisionError that could occur when dividing by zero. If the division by zero occurs, the program will jump to the except block and print the message \"Cannot divide by zero\" to the console.\n",
    "\n",
    "2. try-except-else: This statement is similar to the try-except statement, but with an additional else block that is executed if no exception occurs."
   ]
  },
  {
   "cell_type": "code",
   "execution_count": null,
   "id": "6ec7b34d-5aa4-4723-8199-75d4d77d62b9",
   "metadata": {},
   "outputs": [],
   "source": [
    "try:\n",
    "    # code that could raise an exception\n",
    "    result = 10 / 2\n",
    "except ZeroDivisionError:\n",
    "    # code that should be executed if a ZeroDivisionError occurs\n",
    "    print(\"Cannot divide by zero\")\n",
    "else:\n",
    "    # code that should be executed if no exception occurs\n",
    "    print(\"Result is:\", result)\n"
   ]
  },
  {
   "cell_type": "markdown",
   "id": "a7c10549-4341-4007-9289-aa4ea7b6d718",
   "metadata": {},
   "source": [
    "In this example, we use a try-except-else block to divide 10 by 2, which will not raise a ZeroDivisionError. The program will execute the code inside the else block and print the message \"Result is: 5\" to the console.\n",
    "\n",
    "3. try-except-finally: This statement is used to execute cleanup code, such as closing files or releasing resources, regardless of whether an exception occurs or not."
   ]
  },
  {
   "cell_type": "code",
   "execution_count": null,
   "id": "03a870e6-138d-44d4-8aa2-c6a25a35d857",
   "metadata": {},
   "outputs": [],
   "source": [
    "try:\n",
    "    file = open(\"example.txt\", \"r\")\n",
    "    # code that uses the file\n",
    "except FileNotFoundError:\n",
    "    print(\"File not found\")\n",
    "finally:\n",
    "    file.close()\n"
   ]
  },
  {
   "cell_type": "markdown",
   "id": "6bd037ed-e495-4d0d-ad6e-e159069d8978",
   "metadata": {},
   "source": [
    "In this example, we use a try-except-finally block to open a file and perform some operations on it. The finally block is used to ensure that the file is closed regardless of whether an exception occurs or not.\n",
    "\n",
    "By using these exception handling statements, we can catch and handle exceptions in our Python programs, ensuring that they can continue to run smoothly even when errors occu"
   ]
  },
  {
   "cell_type": "code",
   "execution_count": 4,
   "id": "59fbbb11-4497-4a98-b7d1-4b94a565bee0",
   "metadata": {},
   "outputs": [],
   "source": [
    "#ANSWER 4 "
   ]
  },
  {
   "cell_type": "markdown",
   "id": "2d809b95-859a-44db-8917-e4f7921ca42e",
   "metadata": {},
   "source": [
    "Here's an example of a try-except-else block where an exception is raised:"
   ]
  },
  {
   "cell_type": "code",
   "execution_count": null,
   "id": "f0f4ba29-1567-4476-87ce-f2aff416db49",
   "metadata": {},
   "outputs": [],
   "source": [
    "try:\n",
    "    num1 = int(input(\"Enter the first number: \"))\n",
    "    num2 = int(input(\"Enter the second number: \"))\n",
    "    result = num1 / num2\n",
    "except ValueError:\n",
    "    print(\"Please enter a valid number\")\n",
    "else:\n",
    "    print(\"The result is:\", result)\n",
    "finally:\n",
    "    print(\"Thank you for using this program!\")\n"
   ]
  },
  {
   "cell_type": "markdown",
   "id": "ae213cb9-89e5-48b6-bd36-fdc8e91468f5",
   "metadata": {},
   "source": [
    "In this example, the program prompts the user to enter two numbers and divides them. If the user enters an invalid number, such as a string, the program will raise a ValueError exception and jump to the except block, printing the message \"Please enter a valid number\" to the console.\n",
    "\n",
    "If the user enters valid numbers, the program will execute the code inside the else block and print the message \"The result is: \" followed by the result of the division. Finally, the program will execute the code inside the finally block and print the message \"Thank you for using this program!\" to the console, regardless of whether an exception occurred or not.\n",
    "\n",
    "Now, let's say the user enters 0 as the second number. This will cause a ZeroDivisionError exception to be raised. Since we have not included a except ZeroDivisionError block to handle this specific exception, the program will terminate abruptly with an error message indicating that a ZeroDivisionError occurred."
   ]
  },
  {
   "cell_type": "code",
   "execution_count": null,
   "id": "3747254c-cfe8-424e-8e9c-d19166fb580d",
   "metadata": {},
   "outputs": [],
   "source": [
    "Enter the first number: 10\n",
    "Enter the second number: 0\n",
    "Traceback (most recent call last):\n",
    "  File \"example.py\", line 5, in <module>\n",
    "    result = num1 / num2\n",
    "ZeroDivisionError: division by zero\n"
   ]
  },
  {
   "cell_type": "code",
   "execution_count": 5,
   "id": "9b7ecb58-77ef-4dad-b3f6-30841f4ec993",
   "metadata": {},
   "outputs": [],
   "source": [
    "#ANSWER 5"
   ]
  },
  {
   "cell_type": "markdown",
   "id": "bd5a9b75-a784-49bd-b63e-08cdbb20f781",
   "metadata": {},
   "source": [
    "Custom Exceptions in Python are user-defined exceptions that allow developers to create their own exceptions with custom error messages and behavior.\n",
    "\n",
    "We need custom exceptions when the built-in exceptions provided by Python are not sufficient to handle all possible errors in our program. Custom exceptions allow us to define our own exceptions that are specific to our program's domain and can provide more meaningful error messages for our users.\n",
    "\n",
    "Here's an example of a custom exception:\n",
    "\n",
    "python\n"
   ]
  },
  {
   "cell_type": "code",
   "execution_count": null,
   "id": "cab7d0a0-4b34-49db-a3e4-63223e72a3bc",
   "metadata": {},
   "outputs": [],
   "source": [
    "def square_root(n):\n",
    "    if n < 0:\n",
    "        raise NegativeNumberError(\"Cannot compute square root of a negative number\")\n",
    "    return math.sqrt(n)\n",
    "\n",
    "try:\n",
    "    result = square_root(-5)\n",
    "except NegativeNumberError as e:\n",
    "    print(e.message)\n",
    "else:\n",
    "    print(result)\n"
   ]
  },
  {
   "cell_type": "markdown",
   "id": "323788d7-ad1c-45bd-a1dd-1ae8086b94ce",
   "metadata": {},
   "source": [
    "n this program, we have defined a function called square_root() that takes a number n as an argument and returns the square root of n. However, before calculating the square root, the function checks if n is negative. If n is negative, the function raises a NegativeNumberError exception with the error message \"Cannot compute square root of a negative number\".\n",
    "\n",
    "In the try block, we call the square_root() function with a negative number (-5), which causes the NegativeNumberError exception to be raised. The except block catches this exception and prints the error message \"Cannot compute square root of a negative number\" to the console.\n",
    "\n",
    "This example demonstrates how custom exceptions can be used to provide more specific and meaningful error messages for our users, making it easier to identify and fix problems in our programs."
   ]
  },
  {
   "cell_type": "code",
   "execution_count": null,
   "id": "bd7d03e0-f5cd-4bf5-8851-1b1b14836d74",
   "metadata": {},
   "outputs": [],
   "source": []
  }
 ],
 "metadata": {
  "kernelspec": {
   "display_name": "Python 3 (ipykernel)",
   "language": "python",
   "name": "python3"
  },
  "language_info": {
   "codemirror_mode": {
    "name": "ipython",
    "version": 3
   },
   "file_extension": ".py",
   "mimetype": "text/x-python",
   "name": "python",
   "nbconvert_exporter": "python",
   "pygments_lexer": "ipython3",
   "version": "3.10.8"
  }
 },
 "nbformat": 4,
 "nbformat_minor": 5
}
