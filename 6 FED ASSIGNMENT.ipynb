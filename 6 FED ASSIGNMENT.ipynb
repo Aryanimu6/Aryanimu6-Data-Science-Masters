{
 "cells": [
  {
   "cell_type": "code",
   "execution_count": 1,
   "id": "e31171be-b9c8-4053-a85c-1c3da460eba0",
   "metadata": {},
   "outputs": [
    {
     "name": "stdin",
     "output_type": "stream",
     "text": [
      "Enter percentage:  64\n"
     ]
    },
    {
     "name": "stdout",
     "output_type": "stream",
     "text": [
      "Grade: C\n"
     ]
    }
   ],
   "source": [
    "percentage = float(input(\"Enter percentage: \"))\n",
    "\n",
    "if percentage > 90:\n",
    "    grade = \"A\"\n",
    "elif percentage > 80:\n",
    "    grade = \"B\"\n",
    "elif percentage >= 60:\n",
    "    grade = \"C\"\n",
    "else:\n",
    "    grade = \"D\"\n",
    "\n",
    "print(\"Grade:\", grade)\n",
    "\n"
   ]
  },
  {
   "cell_type": "code",
   "execution_count": 3,
   "id": "aa5541ad-3343-4d3b-b468-f56a67127fab",
   "metadata": {},
   "outputs": [
    {
     "name": "stdin",
     "output_type": "stream",
     "text": [
      "Enter cost price of bike (in Rs):  550\n"
     ]
    },
    {
     "name": "stdout",
     "output_type": "stream",
     "text": [
      "Road tax to be paid (in Rs): 27.5\n"
     ]
    }
   ],
   "source": [
    "cost_price = float(input(\"Enter cost price of bike (in Rs): \"))\n",
    "\n",
    "if cost_price > 100000:\n",
    "    road_tax = cost_price * 0.15\n",
    "elif cost_price > 50000 and cost_price <= 100000:\n",
    "    road_tax = cost_price * 0.1\n",
    "elif cost_price <= 50000:\n",
    "    road_tax = cost_price * 0.05\n",
    "else:\n",
    "    print(\"Invalid cost price\")\n",
    "    exit()\n",
    "\n",
    "print(\"Road tax to be paid (in Rs):\", road_tax)\n"
   ]
  },
  {
   "cell_type": "code",
   "execution_count": 4,
   "id": "b69dce95-6827-433b-9e3b-878fcc732817",
   "metadata": {},
   "outputs": [
    {
     "name": "stdin",
     "output_type": "stream",
     "text": [
      "Enter a city name:  delhi\n"
     ]
    },
    {
     "name": "stdout",
     "output_type": "stream",
     "text": [
      "The monuments in delhi are:\n",
      "- Red Fort\n",
      "- Taj Mahal\n"
     ]
    }
   ],
   "source": [
    "city = input(\"Enter a city name: \")\n",
    "\n",
    "if city.lower() == \"delhi\":\n",
    "    monuments = [\"Red Fort\", \"Taj Mahal\"]\n",
    "elif city.lower() == \"agra\":\n",
    "    monuments = [\"Taj Mahal\"]\n",
    "elif city.lower() == \"jaipur\":\n",
    "    monuments = [\"Jal Mahal\"]\n",
    "else:\n",
    "    monuments = []\n",
    "\n",
    "if monuments:\n",
    "    print(\"The monuments in\", city, \"are:\")\n",
    "    for monument in monuments:\n",
    "        print(\"-\", monument)\n",
    "else:\n",
    "    print(\"No monuments found for\", city)\n"
   ]
  },
  {
   "cell_type": "code",
   "execution_count": 5,
   "id": "e82502c6-91b0-48fb-bcd0-212250db77cb",
   "metadata": {},
   "outputs": [
    {
     "name": "stdin",
     "output_type": "stream",
     "text": [
      "Enter a number:  9\n"
     ]
    },
    {
     "name": "stdout",
     "output_type": "stream",
     "text": [
      "The given number can be divided by 3 0 times before it is less than or equal to 10.\n"
     ]
    }
   ],
   "source": [
    "num = int(input(\"Enter a number: \"))\n",
    "count = 0\n",
    "\n",
    "while num > 10:\n",
    "    num /= 3\n",
    "    count += 1\n",
    "\n",
    "print(\"The given number can be divided by 3\", count, \"times before it is less than or equal to 10.\")\n"
   ]
  },
  {
   "cell_type": "markdown",
   "id": "361224b6-628f-4f80-9db4-094f650d7c26",
   "metadata": {},
   "source": [
    "In Python, a while loop is used to execute a block of code repeatedly while a certain condition is true. The while loop is useful when you want to repeat a certain set of instructions until a certain condition is met."
   ]
  },
  {
   "cell_type": "markdown",
   "id": "2bafa5f1-6cdf-4b10-bff7-bd3af65c4c50",
   "metadata": {},
   "source": [
    "1. Here are some scenarios where a while loop is commonly used in Python:\n",
    "\n",
    "Repeating code until a certain condition is met: A while loop can be used to repeat a set of instructions until a certain condition is met. For example, you can use a while loop to prompt the user to enter a valid input until they enter a value that meets your requirements. Here is an example:"
   ]
  },
  {
   "cell_type": "code",
   "execution_count": 7,
   "id": "a909d161-3089-4e8b-96c3-32561e28be5a",
   "metadata": {},
   "outputs": [
    {
     "name": "stdin",
     "output_type": "stream",
     "text": [
      "Enter a positive number:  -99\n"
     ]
    },
    {
     "name": "stdout",
     "output_type": "stream",
     "text": [
      "Invalid input! Please enter a positive number.\n"
     ]
    },
    {
     "name": "stdin",
     "output_type": "stream",
     "text": [
      "Enter a positive number:  44\n"
     ]
    }
   ],
   "source": [
    "while True:\n",
    "    num = int(input(\"Enter a positive number: \"))\n",
    "    if num > 0:\n",
    "        break\n",
    "    else:\n",
    "        print(\"Invalid input! Please enter a positive number.\")\n"
   ]
  },
  {
   "cell_type": "markdown",
   "id": "8d995482-5638-4570-8111-69c87ac2e7e1",
   "metadata": {},
   "source": [
    "2. Iterating over a collection of items: A while loop can also be used to iterate over a collection of items, such as a list or a dictionary. Here is an example:"
   ]
  },
  {
   "cell_type": "code",
   "execution_count": 8,
   "id": "ff5e5b25-a6ae-42f5-9f97-351f3a9000eb",
   "metadata": {},
   "outputs": [
    {
     "name": "stdout",
     "output_type": "stream",
     "text": [
      "apple\n",
      "banana\n",
      "cherry\n",
      "kiwi\n"
     ]
    }
   ],
   "source": [
    "fruits = [\"apple\", \"banana\", \"cherry\", \"kiwi\"]\n",
    "i = 0\n",
    "\n",
    "while i < len(fruits):\n",
    "    print(fruits[i])\n",
    "    i += 1\n"
   ]
  },
  {
   "cell_type": "markdown",
   "id": "f3fb86bb-7db2-4f71-ab59-742b1dfb0493",
   "metadata": {},
   "source": [
    "3. Processing items until a certain condition is met: A while loop can also be used to process items from a collection until a certain condition is met. For example, you can use a while loop to process items from a queue until the queue is empty. Here is an example:"
   ]
  },
  {
   "cell_type": "code",
   "execution_count": 9,
   "id": "4672432e-b7c9-4197-8fda-08f8b9e85077",
   "metadata": {},
   "outputs": [
    {
     "name": "stdout",
     "output_type": "stream",
     "text": [
      "The sum of the numbers in the queue is 15\n"
     ]
    }
   ],
   "source": [
    "queue = [1, 2, 3, 4, 5]\n",
    "sum = 0\n",
    "\n",
    "while len(queue) > 0:\n",
    "    num = queue.pop(0)\n",
    "    sum += num\n",
    "\n",
    "print(\"The sum of the numbers in the queue is\", sum)\n"
   ]
  },
  {
   "cell_type": "code",
   "execution_count": null,
   "id": "e1911a4b-eb19-4701-953c-09e71a4ba229",
   "metadata": {},
   "outputs": [],
   "source": []
  },
  {
   "cell_type": "markdown",
   "id": "fe782f50-a51e-4ece-a534-d477df5b4db2",
   "metadata": {},
   "source": [
    "Here are three different patterns that can be printed using nested while loops in Python:\n",
    "\n",
    "Pattern 1: A triangle of asterisks with increasing size"
   ]
  },
  {
   "cell_type": "code",
   "execution_count": 10,
   "id": "31e445d5-2164-4672-8154-2060badfaf1d",
   "metadata": {},
   "outputs": [
    {
     "name": "stdout",
     "output_type": "stream",
     "text": [
      "*\n",
      "**\n",
      "***\n",
      "****\n",
      "*****\n"
     ]
    }
   ],
   "source": [
    "n = 5\n",
    "i = 1\n",
    "\n",
    "while i <= n:\n",
    "    j = 1\n",
    "    while j <= i:\n",
    "        print(\"*\", end=\"\")\n",
    "        j += 1\n",
    "    print()\n",
    "    i += 1\n"
   ]
  },
  {
   "cell_type": "markdown",
   "id": "08635fbb-1981-4e3f-85ab-9252ab67bf31",
   "metadata": {},
   "source": [
    "Pattern 2: A square of asterisks with a hollow center"
   ]
  },
  {
   "cell_type": "code",
   "execution_count": 11,
   "id": "72db2ee2-1c42-413f-9774-4abcd2e4cde6",
   "metadata": {},
   "outputs": [
    {
     "name": "stdout",
     "output_type": "stream",
     "text": [
      "*****\n",
      "*   *\n",
      "*   *\n",
      "*   *\n",
      "*****\n"
     ]
    }
   ],
   "source": [
    "n = 5\n",
    "i = 1\n",
    "\n",
    "while i <= n:\n",
    "    j = 1\n",
    "    while j <= n:\n",
    "        if i == 1 or i == n or j == 1 or j == n:\n",
    "            print(\"*\", end=\"\")\n",
    "        else:\n",
    "            print(\" \", end=\"\")\n",
    "        j += 1\n",
    "    print()\n",
    "    i += 1\n"
   ]
  },
  {
   "cell_type": "markdown",
   "id": "9782acca-eeb2-4351-8614-7872fbb9fb13",
   "metadata": {},
   "source": [
    "Pattern 3: A diamond of asterisks with a hollow center"
   ]
  },
  {
   "cell_type": "code",
   "execution_count": 12,
   "id": "fc4793db-5d0f-4cfe-879d-5365d553b87b",
   "metadata": {},
   "outputs": [
    {
     "name": "stdout",
     "output_type": "stream",
     "text": [
      "    *\n",
      "   * *\n",
      "  *   *\n",
      " *     *\n",
      "*       *\n",
      " *     *\n",
      "  *   *\n",
      "   * *\n",
      "    *\n"
     ]
    }
   ],
   "source": [
    "n = 5\n",
    "i = 1\n",
    "\n",
    "while i <= n:\n",
    "    j = 1\n",
    "    while j <= n - i:\n",
    "        print(\" \", end=\"\")\n",
    "        j += 1\n",
    "    j = 1\n",
    "    while j <= 2 * i - 1:\n",
    "        if j == 1 or j == 2 * i - 1:\n",
    "            print(\"*\", end=\"\")\n",
    "        else:\n",
    "            print(\" \", end=\"\")\n",
    "        j += 1\n",
    "    print()\n",
    "    i += 1\n",
    "\n",
    "i = n - 1\n",
    "while i >= 1:\n",
    "    j = 1\n",
    "    while j <= n - i:\n",
    "        print(\" \", end=\"\")\n",
    "        j += 1\n",
    "    j = 1\n",
    "    while j <= 2 * i - 1:\n",
    "        if j == 1 or j == 2 * i - 1:\n",
    "            print(\"*\", end=\"\")\n",
    "        else:\n",
    "            print(\" \", end=\"\")\n",
    "        j += 1\n",
    "    print()\n",
    "    i -= 1\n"
   ]
  },
  {
   "cell_type": "code",
   "execution_count": null,
   "id": "80aeaf08-05a3-403a-9807-9cd3d058f106",
   "metadata": {},
   "outputs": [],
   "source": []
  },
  {
   "cell_type": "markdown",
   "id": "36ba0bfc-64dc-4d74-9783-d7ac4dc3080c",
   "metadata": {},
   "source": [
    "To display numbers from 10 to 1 using a while loop in Python, we can start with the initial value of i set to 10 and decrement it by 1 in each iteration until i is greater than or equal to 1. Here's an example code:\n"
   ]
  },
  {
   "cell_type": "code",
   "execution_count": 13,
   "id": "77938cf4-cf76-4f49-b6f5-276092179e29",
   "metadata": {},
   "outputs": [
    {
     "name": "stdout",
     "output_type": "stream",
     "text": [
      "10\n",
      "9\n",
      "8\n",
      "7\n",
      "6\n",
      "5\n",
      "4\n",
      "3\n",
      "2\n",
      "1\n"
     ]
    }
   ],
   "source": [
    "i = 10\n",
    "\n",
    "while i >= 1:\n",
    "    print(i)\n",
    "    i -= 1\n"
   ]
  },
  {
   "cell_type": "code",
   "execution_count": null,
   "id": "53e041dc-dc0a-4319-83e7-e6021ac66dcd",
   "metadata": {},
   "outputs": [],
   "source": []
  }
 ],
 "metadata": {
  "kernelspec": {
   "display_name": "Python 3 (ipykernel)",
   "language": "python",
   "name": "python3"
  },
  "language_info": {
   "codemirror_mode": {
    "name": "ipython",
    "version": 3
   },
   "file_extension": ".py",
   "mimetype": "text/x-python",
   "name": "python",
   "nbconvert_exporter": "python",
   "pygments_lexer": "ipython3",
   "version": "3.10.8"
  }
 },
 "nbformat": 4,
 "nbformat_minor": 5
}
