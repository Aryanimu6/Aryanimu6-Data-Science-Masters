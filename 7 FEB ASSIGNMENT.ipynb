{
 "cells": [
  {
   "cell_type": "code",
   "execution_count": 1,
   "id": "c8273aa4-9b25-4874-a552-c6e94d2c6a80",
   "metadata": {},
   "outputs": [],
   "source": [
    "def validate_password(password):\n",
    "    upper_chars = []\n",
    "    lower_chars = []\n",
    "    special_chars = \"\"\n",
    "    num_digits = 0\n",
    "    \n",
    "    for char in password:\n",
    "        if char.isupper():\n",
    "            upper_chars.append(char)\n",
    "        elif char.islower():\n",
    "            lower_chars.append(char)\n",
    "        elif char.isdigit():\n",
    "            num_digits += 1\n",
    "        else:\n",
    "            special_chars += char\n",
    "    \n",
    "    if (len(password) == 10) and (len(upper_chars) >= 2) and (len(lower_chars) >= 2) and (num_digits >= 1) and (len(special_chars) >= 3):\n",
    "        return \"Valid Password\"\n",
    "    else:\n",
    "        return \"Invalid Password\"\n"
   ]
  },
  {
   "cell_type": "code",
   "execution_count": 6,
   "id": "9ad8d637-cecb-4048-8780-1a8360c949ef",
   "metadata": {},
   "outputs": [
    {
     "name": "stdout",
     "output_type": "stream",
     "text": [
      "Invalid Password\n",
      "Invalid Password\n"
     ]
    }
   ],
   "source": [
    "password1 = \"ABcdef12#$%\"\n",
    "password2 = \"DVVDFGRG1R56G4G12G4535dfg4e65h45\"\n",
    "\n",
    "print(validate_password(password1)) # Output: Valid Password\n",
    "print(validate_password(password2)) # Output: Invalid Password\n",
    "\n"
   ]
  },
  {
   "cell_type": "code",
   "execution_count": null,
   "id": "ea7c272b-bea6-4e4a-81a7-87787448eca3",
   "metadata": {},
   "outputs": [],
   "source": []
  },
  {
   "cell_type": "code",
   "execution_count": 7,
   "id": "8a647c1d-e500-4935-80cf-bc054fc014d6",
   "metadata": {},
   "outputs": [
    {
     "name": "stdout",
     "output_type": "stream",
     "text": [
      "True\n",
      "False\n"
     ]
    }
   ],
   "source": [
    "startsWith = lambda x, y: True if x.startswith(y) else False\n",
    "print(startsWith('Hello', 'H')) # True\n",
    "print(startsWith('World', 'H')) # False\n"
   ]
  },
  {
   "cell_type": "code",
   "execution_count": 8,
   "id": "b639ccfe-98e2-4a64-97f5-65581b426347",
   "metadata": {},
   "outputs": [
    {
     "name": "stdout",
     "output_type": "stream",
     "text": [
      "True\n",
      "False\n"
     ]
    }
   ],
   "source": [
    "isNumeric = lambda x: x.isnumeric()\n",
    "print(isNumeric('1234')) # True\n",
    "print(isNumeric('Hello')) # False\n"
   ]
  },
  {
   "cell_type": "code",
   "execution_count": 9,
   "id": "1b733c2a-cf50-4b90-bdb9-7e9990adbc39",
   "metadata": {},
   "outputs": [
    {
     "name": "stdout",
     "output_type": "stream",
     "text": [
      "[('orange', 80), ('mango', 99), ('grapes', 1000)]\n"
     ]
    }
   ],
   "source": [
    "fruits = [(\"mango\",99),(\"orange\",80), (\"grapes\", 1000)]\n",
    "sortByQuantity = sorted(fruits, key=lambda x: x[1])\n",
    "print(sortByQuantity) # [('orange', 80), ('mango', 99), ('grapes', 1000)]\n"
   ]
  },
  {
   "cell_type": "code",
   "execution_count": null,
   "id": "b8f8c874-bd6f-4782-9dfe-542bf02a3de2",
   "metadata": {},
   "outputs": [],
   "source": []
  }
 ],
 "metadata": {
  "kernelspec": {
   "display_name": "Python 3 (ipykernel)",
   "language": "python",
   "name": "python3"
  },
  "language_info": {
   "codemirror_mode": {
    "name": "ipython",
    "version": 3
   },
   "file_extension": ".py",
   "mimetype": "text/x-python",
   "name": "python",
   "nbconvert_exporter": "python",
   "pygments_lexer": "ipython3",
   "version": "3.10.8"
  }
 },
 "nbformat": 4,
 "nbformat_minor": 5
}
