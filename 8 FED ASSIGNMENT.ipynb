{
 "cells": [
  {
   "cell_type": "code",
   "execution_count": 6,
   "id": "3b4ae76b-c9e0-44ca-8f3a-baf6ebdc9999",
   "metadata": {},
   "outputs": [],
   "source": [
    "#ANSWER 1"
   ]
  },
  {
   "cell_type": "markdown",
   "id": "d70a2330-43aa-47ec-a48a-ccaeca579dec",
   "metadata": {},
   "source": [
    "In Object-Oriented Programming, Abstraction is the process of hiding complex implementation details from the user and only exposing essential features and functionalities. It is a fundamental concept of object-oriented design that enables the developer to create more modular and flexible software systems.\n",
    "\n",
    "Abstraction is achieved through the use of abstract classes and interfaces, which provide a set of methods or properties that must be implemented by the derived classes. The abstract classes and interfaces only define the necessary functionality, and the concrete classes provide the actual implementation."
   ]
  },
  {
   "cell_type": "code",
   "execution_count": 4,
   "id": "f306a7b0-a0ff-477f-bd8b-60cae0ba5e21",
   "metadata": {},
   "outputs": [],
   "source": [
    "from abc import ABC, abstractmethod\n",
    "\n",
    "class Animal(ABC):\n",
    "    @abstractmethod\n",
    "    def move(self):\n",
    "        pass\n",
    "\n",
    "class Dog(Animal):\n",
    "    def move(self):\n",
    "        print(\"Dog runs on four legs\")\n",
    "\n",
    "class Snake(Animal):\n",
    "    def move(self):\n",
    "        print(\"Snake slithers on its belly\")\n"
   ]
  },
  {
   "cell_type": "code",
   "execution_count": 5,
   "id": "d9dcf6b3-146c-46cd-9440-0807be96e381",
   "metadata": {},
   "outputs": [],
   "source": [
    "#ANSWER 2"
   ]
  },
  {
   "cell_type": "markdown",
   "id": "a152f79f-506b-4017-b4af-4fe8145e534e",
   "metadata": {},
   "source": [
    "Abstraction and Encapsulation are two important concepts in Object-Oriented Programming (OOP) that are used to achieve data hiding and modularity in a software application. Though these concepts are similar, they differ in their approach and purpose.\n",
    "\n",
    "Abstraction is the process of hiding unnecessary details from the user and only exposing the relevant features or functionalities. It focuses on the behavior of an object rather than its implementation. In simple words, abstraction allows a user to focus on what an object does rather than how it does it.\n",
    "\n",
    "Encapsulation, on the other hand, is the process of wrapping data and functions into a single unit, which is called a class. Encapsulation is used to protect the data from being accessed or modified by external code. It ensures that data is accessed only through the defined methods and functions.\n",
    "\n",
    "Here's an example to differentiate between Abstraction and Encapsulation:\n",
    "\n",
    "Suppose you want to build a car racing game. You have a car object with various properties such as speed, position, and acceleration. Abstraction would be to show only the speed of the car to the user, without exposing other details such as acceleration or position. This allows the user to focus on what's important - the speed of the car.\n",
    "\n",
    "Encapsulation, on the other hand, would be to define a class called 'Car' that wraps all the necessary properties and methods related to the car. The class would have methods for accelerating, braking, and changing the position of the car. The user can access the properties and methods of the Car class only through the defined methods and functions.\n",
    "\n",
    "In summary, Abstraction focuses on the behavior of an object, while Encapsulation focuses on protecting the data from external access. Both concepts are essential for building modular, maintainable, and scalable software applications."
   ]
  },
  {
   "cell_type": "code",
   "execution_count": 7,
   "id": "35b4d8e4-dcd8-411c-8930-1b7f8772f17e",
   "metadata": {},
   "outputs": [],
   "source": [
    "#ANSWER 3"
   ]
  },
  {
   "cell_type": "markdown",
   "id": "476e381e-1294-4c7f-adbc-7adb387ce8eb",
   "metadata": {},
   "source": [
    "In Python, abc stands for Abstract Base Classes. It is a module in Python's standard library that provides the infrastructure for defining abstract base classes. Abstract base classes are classes that cannot be instantiated and are designed to serve as a blueprint for other classes that derive from them.\n",
    "\n",
    "The abc module provides the ABC class that can be used to define an abstract base class. An abstract base class is created by subclassing ABC and adding abstract methods to it. An abstract method is a method that is declared but does not have an implementation. The implementation of the abstract method is left to the subclasses that derive from the abstract base class.\n",
    "\n",
    "The abc module is used to enforce the creation of a specific API and to ensure that the derived classes adhere to that API. It is particularly useful when multiple developers are working on a project and need to ensure that their code is compatible with each other's code."
   ]
  },
  {
   "cell_type": "code",
   "execution_count": 8,
   "id": "edeb3a36-5ff1-4221-92d6-f381c62026ed",
   "metadata": {},
   "outputs": [],
   "source": [
    "#ANSWER 4"
   ]
  },
  {
   "cell_type": "code",
   "execution_count": null,
   "id": "a4922fe4-418a-490e-89bd-099981b55355",
   "metadata": {},
   "outputs": [],
   "source": []
  }
 ],
 "metadata": {
  "kernelspec": {
   "display_name": "Python 3 (ipykernel)",
   "language": "python",
   "name": "python3"
  },
  "language_info": {
   "codemirror_mode": {
    "name": "ipython",
    "version": 3
   },
   "file_extension": ".py",
   "mimetype": "text/x-python",
   "name": "python",
   "nbconvert_exporter": "python",
   "pygments_lexer": "ipython3",
   "version": "3.10.8"
  }
 },
 "nbformat": 4,
 "nbformat_minor": 5
}
