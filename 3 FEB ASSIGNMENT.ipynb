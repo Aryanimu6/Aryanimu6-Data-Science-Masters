{
 "cells": [
  {
   "cell_type": "code",
   "execution_count": 1,
   "id": "cd7b189c-d976-4631-827a-e8f79db093ae",
   "metadata": {},
   "outputs": [],
   "source": [
    "def odd_numbers():\n",
    "    odd_list = []\n",
    "    for i in range(1, 26):\n",
    "        if i % 2 == 1:\n",
    "            odd_list.append(i)\n",
    "    return odd_list\n"
   ]
  },
  {
   "cell_type": "code",
   "execution_count": 5,
   "id": "15f2d8b7-a78c-455d-bc7e-c0da6746bef0",
   "metadata": {},
   "outputs": [
    {
     "data": {
      "text/plain": [
       "[1, 3, 5, 7, 9, 11, 13, 15, 17, 19, 21, 23, 25]"
      ]
     },
     "execution_count": 5,
     "metadata": {},
     "output_type": "execute_result"
    }
   ],
   "source": [
    "odd_numbers()"
   ]
  },
  {
   "cell_type": "markdown",
   "id": "b45cc27d-5723-4c34-93e5-b9f640c7d20b",
   "metadata": {},
   "source": [
    "In Python, *args and **kwargs are used to pass a variable number of arguments to a function. Here's a brief explanation of how they work:\n",
    "\n",
    "*args is used to pass a variable number of non-keyword arguments to a function. It allows you to pass any number of arguments to the function, which will be packed into a tuple. Inside the function, you can access the arguments using indexing, just like you would with a regular tuple.\n",
    "\n",
    "**kwargs is used to pass a variable number of keyword arguments to a function. It allows you to pass any number of keyword arguments to the function, which will be packed into a dictionary. Inside the function, you can access the arguments using their keys, just like you would with a regular dictionary.\n",
    "\n",
    "Here are examples of how you can use *args and **kwargs in Python functions:"
   ]
  },
  {
   "cell_type": "code",
   "execution_count": 7,
   "id": "c8910e73-8556-45d2-8a74-c6eb7022d07b",
   "metadata": {},
   "outputs": [
    {
     "name": "stdout",
     "output_type": "stream",
     "text": [
      "15\n",
      "name: John\n",
      "age: 30\n",
      "city: New York\n"
     ]
    }
   ],
   "source": [
    "# Example of a function that uses *args to add any number of numbers\n",
    "def add_numbers(*args):\n",
    "    total = 0\n",
    "    for num in args:\n",
    "        total += num\n",
    "    return total\n",
    "\n",
    "print(add_numbers(1, 2, 3, 4, 5))  # Output: 15\n",
    "\n",
    "# Example of a function that uses **kwargs to print out any number of key-value pairs\n",
    "def print_kwargs(**kwargs):\n",
    "    for key, value in kwargs.items():\n",
    "        print(f\"{key}: {value}\")\n",
    "\n",
    "print_kwargs(name=\"John\", age=30, city=\"New York\")  # Output: name: John, age: 30, city: New York\n"
   ]
  },
  {
   "cell_type": "markdown",
   "id": "cd43eae0-7a00-4133-b93d-cd4b7b6144f9",
   "metadata": {},
   "source": [
    "In Python, an iterator is an object that can be iterated (looped) upon, and which returns a sequence of values one at a time when iterated. It is an object that implements the iterator protocol, which consists of two methods: __iter__() and __next__().\n",
    "\n",
    "The __iter__() method is used to initialize the iterator object. It should return the iterator object itself.\n",
    "\n",
    "The __next__() method is used for iteration. It should return the next value in the sequence, or raise the StopIteration exception if there are no more values to return.\n",
    "\n",
    "Here's an example of how you can use an iterator to print the first five elements of the given list [2, 4, 6, 8, 10, 12, 14, 16, 18, 20]:"
   ]
  },
  {
   "cell_type": "code",
   "execution_count": 8,
   "id": "1569ac55-cfb1-4a02-be6e-4139d0d02c75",
   "metadata": {},
   "outputs": [
    {
     "name": "stdout",
     "output_type": "stream",
     "text": [
      "2\n",
      "4\n",
      "6\n",
      "8\n",
      "10\n"
     ]
    }
   ],
   "source": [
    "# Create an iterator object for the list using iter()\n",
    "my_list = [2, 4, 6, 8, 10, 12, 14, 16, 18, 20]\n",
    "my_iter = iter(my_list)\n",
    "\n",
    "# Use next() to iterate through the first five elements of the list\n",
    "print(next(my_iter))  # Output: 2\n",
    "print(next(my_iter))  # Output: 4\n",
    "print(next(my_iter))  # Output: 6\n",
    "print(next(my_iter))  # Output: 8\n",
    "print(next(my_iter))  # Output: 10\n"
   ]
  },
  {
   "cell_type": "markdown",
   "id": "1dee856b-5b4d-4c6a-b6b8-cba77fdb85f3",
   "metadata": {},
   "source": [
    "In Python, a generator function is a special kind of function that generates a sequence of values using the yield keyword instead of return. When you call a generator function, it returns a generator object, which is an iterator that can be iterated over using a for loop or the next() function. The generator function does not generate all the values at once, but rather generates them one at a time as the iterator is iterated over.\n",
    "\n",
    "The yield keyword is used in generator functions to indicate where to pause the function and return a value to the caller. When the function is called again, execution resumes from where it left off and continues until the next yield statement is encountered.\n",
    "\n",
    "Here's an example of a generator function that generates a sequence of numbers:"
   ]
  },
  {
   "cell_type": "code",
   "execution_count": 9,
   "id": "fec3b730-a5e9-4dfe-a586-8dd32fec5c59",
   "metadata": {},
   "outputs": [
    {
     "name": "stdout",
     "output_type": "stream",
     "text": [
      "0\n",
      "1\n",
      "2\n",
      "3\n",
      "4\n"
     ]
    }
   ],
   "source": [
    "def generate_numbers(n):\n",
    "    for i in range(n):\n",
    "        yield i\n",
    "\n",
    "# Create a generator object using the generator function\n",
    "my_generator = generate_numbers(5)\n",
    "\n",
    "# Iterate over the generator object using a for loop\n",
    "for num in my_generator:\n",
    "    print(num)\n",
    "\n"
   ]
  },
  {
   "cell_type": "code",
   "execution_count": 10,
   "id": "e5c1c941-16d0-4bd3-8a40-253219d8a102",
   "metadata": {},
   "outputs": [
    {
     "name": "stdout",
     "output_type": "stream",
     "text": [
      "2\n",
      "3\n",
      "5\n",
      "7\n",
      "11\n",
      "13\n",
      "17\n",
      "19\n",
      "23\n",
      "29\n",
      "31\n",
      "37\n",
      "41\n",
      "43\n",
      "47\n",
      "53\n",
      "59\n",
      "61\n",
      "67\n",
      "71\n"
     ]
    }
   ],
   "source": [
    "def generate_primes():\n",
    "    primes = []\n",
    "    num = 2\n",
    "    while True:\n",
    "        for p in primes:\n",
    "            if num % p == 0:\n",
    "                break\n",
    "        else:\n",
    "            primes.append(num)\n",
    "            yield num\n",
    "        num += 1\n",
    "        if num >= 1000:\n",
    "            break\n",
    "\n",
    "# Create a generator object using the generator function\n",
    "prime_generator = generate_primes()\n",
    "\n",
    "# Use next() to print the first 20 prime numbers\n",
    "for i in range(20):\n",
    "    print(next(prime_generator))\n",
    "\n",
    "    "
   ]
  },
  {
   "cell_type": "code",
   "execution_count": 11,
   "id": "15056334-b6cf-4940-a44a-783dc8dd34a8",
   "metadata": {},
   "outputs": [
    {
     "name": "stdout",
     "output_type": "stream",
     "text": [
      "0\n",
      "1\n",
      "1\n",
      "2\n",
      "3\n",
      "5\n",
      "8\n",
      "13\n",
      "21\n",
      "34\n"
     ]
    }
   ],
   "source": [
    "# Initialize the first two numbers of the sequence\n",
    "a, b = 0, 1\n",
    "\n",
    "# Counter for the number of Fibonacci numbers printed\n",
    "count = 0\n",
    "\n",
    "# Loop while the count is less than 10\n",
    "while count < 10:\n",
    "    # Print the current Fibonacci number\n",
    "    print(a)\n",
    "    \n",
    "    # Compute the next Fibonacci number\n",
    "    a, b = b, a+b\n",
    "    \n",
    "    # Increment the count\n",
    "    count += 1\n"
   ]
  },
  {
   "cell_type": "code",
   "execution_count": 12,
   "id": "a61bf27c-d3c1-44d3-bfdd-20ae674b964c",
   "metadata": {},
   "outputs": [
    {
     "name": "stdout",
     "output_type": "stream",
     "text": [
      "['p', 'w', 's', 'k', 'i', 'l', 'l', 's']\n"
     ]
    }
   ],
   "source": [
    "string = 'pwskills'\n",
    "output = [char for char in string if char in 'pwskills']\n",
    "print(output)\n"
   ]
  },
  {
   "cell_type": "code",
   "execution_count": 13,
   "id": "4620b8eb-40ce-4ddb-9021-d77f9f6bda1f",
   "metadata": {},
   "outputs": [
    {
     "name": "stdin",
     "output_type": "stream",
     "text": [
      "Enter a number:  56\n"
     ]
    },
    {
     "name": "stdout",
     "output_type": "stream",
     "text": [
      "The number is not a palindrome.\n"
     ]
    }
   ],
   "source": [
    "num = int(input(\"Enter a number: \"))\n",
    "temp = num\n",
    "reverse_num = 0\n",
    "\n",
    "while temp > 0:\n",
    "    digit = temp % 10\n",
    "    reverse_num = reverse_num * 10 + digit\n",
    "    temp //= 10\n",
    "\n",
    "if num == reverse_num:\n",
    "    print(\"The number is a palindrome.\")\n",
    "else:\n",
    "    print(\"The number is not a palindrome.\")\n"
   ]
  },
  {
   "cell_type": "code",
   "execution_count": 14,
   "id": "b6a0fde1-fcb6-4ad4-a6bf-5909a5b5de3a",
   "metadata": {},
   "outputs": [
    {
     "name": "stdout",
     "output_type": "stream",
     "text": [
      "[1, 3, 5, 7, 9, 11, 13, 15, 17, 19, 21, 23, 25, 27, 29, 31, 33, 35, 37, 39, 41, 43, 45, 47, 49, 51, 53, 55, 57, 59, 61, 63, 65, 67, 69, 71, 73, 75, 77, 79, 81, 83, 85, 87, 89, 91, 93, 95, 97, 99]\n"
     ]
    }
   ],
   "source": [
    "odd_numbers = [num for num in range(1, 101) if num % 2 != 0]\n",
    "print(odd_numbers)"
   ]
  },
  {
   "cell_type": "code",
   "execution_count": null,
   "id": "490d62d7-84a8-49b5-80e9-82180ff72c83",
   "metadata": {},
   "outputs": [],
   "source": []
  }
 ],
 "metadata": {
  "kernelspec": {
   "display_name": "Python 3 (ipykernel)",
   "language": "python",
   "name": "python3"
  },
  "language_info": {
   "codemirror_mode": {
    "name": "ipython",
    "version": 3
   },
   "file_extension": ".py",
   "mimetype": "text/x-python",
   "name": "python",
   "nbconvert_exporter": "python",
   "pygments_lexer": "ipython3",
   "version": "3.10.8"
  }
 },
 "nbformat": 4,
 "nbformat_minor": 5
}
