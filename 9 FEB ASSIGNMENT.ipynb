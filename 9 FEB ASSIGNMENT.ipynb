{
 "cells": [
  {
   "cell_type": "code",
   "execution_count": 1,
   "id": "919f82ad-2d05-43bf-8bf5-ffb34cfa90d4",
   "metadata": {},
   "outputs": [],
   "source": [
    "#ANSWER 1"
   ]
  },
  {
   "cell_type": "code",
   "execution_count": 2,
   "id": "89f6b336-44db-46b2-93b0-4ffe49183fd0",
   "metadata": {},
   "outputs": [],
   "source": [
    "class Vehicle:\n",
    "    def __init__(self, name_of_vehicle, max_speed, average_of_vehicle):\n",
    "        self.name_of_vehicle = name_of_vehicle\n",
    "        self.max_speed = max_speed\n",
    "        self.average_of_vehicle = average_of_vehicle\n"
   ]
  },
  {
   "cell_type": "code",
   "execution_count": 3,
   "id": "b2ffab7c-a6a4-48ee-94ce-2004908683ee",
   "metadata": {},
   "outputs": [],
   "source": [
    "car = Vehicle(\"Honda Civic\", 220, 15)\n"
   ]
  },
  {
   "cell_type": "code",
   "execution_count": 4,
   "id": "8a76af26-83d8-47e2-b1dc-52415a4ef368",
   "metadata": {},
   "outputs": [
    {
     "name": "stdout",
     "output_type": "stream",
     "text": [
      "Honda Civic\n",
      "220\n",
      "15\n"
     ]
    }
   ],
   "source": [
    "print(car.name_of_vehicle)  # output: \"Honda Civic\"\n",
    "print(car.max_speed)        # output: 220\n",
    "print(car.average_of_vehicle) # output: 15\n"
   ]
  },
  {
   "cell_type": "code",
   "execution_count": 5,
   "id": "8335974f-3eee-45ed-b823-90b40458846a",
   "metadata": {},
   "outputs": [],
   "source": [
    "# ANSWER 2"
   ]
  },
  {
   "cell_type": "code",
   "execution_count": 6,
   "id": "ee95b05d-49cd-48e4-bc57-91aa5b05fcea",
   "metadata": {},
   "outputs": [
    {
     "name": "stdout",
     "output_type": "stream",
     "text": [
      "The Toyota has a seating capacity of 5 people.\n"
     ]
    }
   ],
   "source": [
    "# parent class Vehicle\n",
    "class Vehicle:\n",
    "    def __init__(self, name_of_vehicle, max_speed, average_of_vehicle):\n",
    "        self.name_of_vehicle = name_of_vehicle\n",
    "        self.max_speed = max_speed\n",
    "        self.average_of_vehicle = average_of_vehicle\n",
    "\n",
    "# child class Car\n",
    "class Car(Vehicle):\n",
    "    def seating_capacity(self, capacity):\n",
    "        return f\"The {self.name_of_vehicle} has a seating capacity of {capacity} people.\"\n",
    "\n",
    "# create an instance of Car class\n",
    "my_car = Car(\"Toyota\", 220, 25)\n",
    "\n",
    "# call the seating_capacity method\n",
    "print(my_car.seating_capacity(5))\n"
   ]
  },
  {
   "cell_type": "code",
   "execution_count": 7,
   "id": "d8bae5af-e09b-4552-b893-75fb4d089179",
   "metadata": {},
   "outputs": [],
   "source": [
    "# ANSWER 3"
   ]
  },
  {
   "cell_type": "markdown",
   "id": "e633172c-39e8-41ee-8485-00f5b620b630",
   "metadata": {},
   "source": [
    "Multiple inheritance is a feature in object-oriented programming where a class can inherit properties and methods from multiple parent classes. In Python, multiple inheritance is supported where a child class can inherit from more than one parent class.\n",
    "\n",
    "Here is an example code to demonstrate multiple inheritance in Python:"
   ]
  },
  {
   "cell_type": "code",
   "execution_count": 8,
   "id": "5588a73f-aae8-4c88-8fad-af233ecb9507",
   "metadata": {},
   "outputs": [
    {
     "name": "stdout",
     "output_type": "stream",
     "text": [
      "Donald is eating\n",
      "Donald is flying\n",
      "Donald is swimming\n",
      "Donald is quacking\n"
     ]
    }
   ],
   "source": [
    "class Animal:\n",
    "    def __init__(self, name):\n",
    "        self.name = name\n",
    "\n",
    "    def eat(self):\n",
    "        print(f\"{self.name} is eating\")\n",
    "\n",
    "class CanFly:\n",
    "    def fly(self):\n",
    "        print(f\"{self.name} is flying\")\n",
    "\n",
    "class CanSwim:\n",
    "    def swim(self):\n",
    "        print(f\"{self.name} is swimming\")\n",
    "\n",
    "class Duck(Animal, CanFly, CanSwim):\n",
    "    def __init__(self, name):\n",
    "        Animal.__init__(self, name)\n",
    "        CanFly.__init__(self)\n",
    "        CanSwim.__init__(self)\n",
    "\n",
    "    def quack(self):\n",
    "        print(f\"{self.name} is quacking\")\n",
    "\n",
    "duck = Duck(\"Donald\")\n",
    "duck.eat()\n",
    "duck.fly()\n",
    "duck.swim()\n",
    "duck.quack()\n"
   ]
  },
  {
   "cell_type": "code",
   "execution_count": 9,
   "id": "59b9ab93-2907-431c-bb82-a36b5c95abf3",
   "metadata": {},
   "outputs": [],
   "source": [
    "#ANSWER 4"
   ]
  },
  {
   "cell_type": "markdown",
   "id": "3ccf6020-399a-46d3-97a7-02af7a301301",
   "metadata": {},
   "source": [
    "In Python, getter and setter are two methods used to retrieve and modify the values of the class attributes, respectively.\n",
    "\n",
    "A getter method is a method that is used to retrieve the value of a private attribute, and a setter method is used to set the value of a private attribute. These methods provide an additional layer of encapsulation for class attributes, allowing for controlled access to them.\n",
    "\n",
    "Here's an example class demonstrating the use of getter and setter methods:"
   ]
  },
  {
   "cell_type": "code",
   "execution_count": 11,
   "id": "eedace72-30f4-4518-b2b3-7aebdbfbd2ff",
   "metadata": {},
   "outputs": [
    {
     "name": "stdout",
     "output_type": "stream",
     "text": [
      "John\n",
      "Jane\n"
     ]
    }
   ],
   "source": [
    "class Person:\n",
    "    def __init__(self, name):\n",
    "        self.__name = name  \n",
    "\n",
    "    def get_name(self):\n",
    "        return self.__name  \n",
    "\n",
    "    def set_name(self, name):\n",
    "        self.__name = name \n",
    "\n",
    "p = Person('John')\n",
    "\n",
    "print(p.get_name())  \n",
    "\n",
    "p.set_name('Jane')\n",
    "\n",
    "print(p.get_name()) \n"
   ]
  },
  {
   "cell_type": "code",
   "execution_count": null,
   "id": "51b41f24-5312-4dc1-ab61-57bae19620e1",
   "metadata": {},
   "outputs": [],
   "source": []
  }
 ],
 "metadata": {
  "kernelspec": {
   "display_name": "Python 3 (ipykernel)",
   "language": "python",
   "name": "python3"
  },
  "language_info": {
   "codemirror_mode": {
    "name": "ipython",
    "version": 3
   },
   "file_extension": ".py",
   "mimetype": "text/x-python",
   "name": "python",
   "nbconvert_exporter": "python",
   "pygments_lexer": "ipython3",
   "version": "3.10.8"
  }
 },
 "nbformat": 4,
 "nbformat_minor": 5
}
